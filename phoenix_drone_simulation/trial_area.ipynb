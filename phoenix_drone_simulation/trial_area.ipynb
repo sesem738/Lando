{
 "cells": [
  {
   "cell_type": "code",
   "execution_count": 10,
   "metadata": {},
   "outputs": [],
   "source": [
    "import os\n",
    "import pybullet as p"
   ]
  },
  {
   "cell_type": "code",
   "execution_count": 11,
   "metadata": {},
   "outputs": [],
   "source": [
    "file = \"/home/sesem/WorldWideWeb/Lando/phoenix_drone_simulation\"\n",
    "def get_assets_path() -> str:\n",
    "    r\"\"\" Returns the path to the files located in envs/data.\"\"\"\n",
    "    data_path = os.path.join(os.path.dirname(file), 'assets')\n",
    "    return data_path"
   ]
  },
  {
   "cell_type": "code",
   "execution_count": 12,
   "metadata": {},
   "outputs": [
    {
     "ename": "error",
     "evalue": "Cannot load URDF file.",
     "output_type": "error",
     "traceback": [
      "\u001b[0;31m---------------------------------------------------------------------------\u001b[0m",
      "\u001b[0;31merror\u001b[0m                                     Traceback (most recent call last)",
      "\u001b[1;32m/home/sesem/WorldWideWeb/Lando/phoenix_drone_simulation/trial_area.ipynb Cell 3\u001b[0m line \u001b[0;36m1\n\u001b[1;32m     <a href='vscode-notebook-cell:/home/sesem/WorldWideWeb/Lando/phoenix_drone_simulation/trial_area.ipynb#W2sZmlsZQ%3D%3D?line=10'>11</a>\u001b[0m startRPY \u001b[39m=\u001b[39m (\u001b[39m0\u001b[39m,\u001b[39m0\u001b[39m,\u001b[39m0\u001b[39m)\n\u001b[1;32m     <a href='vscode-notebook-cell:/home/sesem/WorldWideWeb/Lando/phoenix_drone_simulation/trial_area.ipynb#W2sZmlsZQ%3D%3D?line=11'>12</a>\u001b[0m leo_path \u001b[39m=\u001b[39m \u001b[39m\"\u001b[39m\u001b[39mleo_description/urdf/leo.urdf\u001b[39m\u001b[39m\"\u001b[39m\n\u001b[0;32m---> <a href='vscode-notebook-cell:/home/sesem/WorldWideWeb/Lando/phoenix_drone_simulation/trial_area.ipynb#W2sZmlsZQ%3D%3D?line=12'>13</a>\u001b[0m leoId \u001b[39m=\u001b[39m p\u001b[39m.\u001b[39;49mloadURDF(os\u001b[39m.\u001b[39;49mpath\u001b[39m.\u001b[39;49mjoin(get_assets_path(), leo_path),\n\u001b[1;32m     <a href='vscode-notebook-cell:/home/sesem/WorldWideWeb/Lando/phoenix_drone_simulation/trial_area.ipynb#W2sZmlsZQ%3D%3D?line=13'>14</a>\u001b[0m             startPos,\n\u001b[1;32m     <a href='vscode-notebook-cell:/home/sesem/WorldWideWeb/Lando/phoenix_drone_simulation/trial_area.ipynb#W2sZmlsZQ%3D%3D?line=14'>15</a>\u001b[0m             p\u001b[39m.\u001b[39;49mgetQuaternionFromEuler(startRPY),\n\u001b[1;32m     <a href='vscode-notebook-cell:/home/sesem/WorldWideWeb/Lando/phoenix_drone_simulation/trial_area.ipynb#W2sZmlsZQ%3D%3D?line=15'>16</a>\u001b[0m             flags\u001b[39m=\u001b[39;49mp\u001b[39m.\u001b[39;49mURDF_USE_INERTIA_FROM_FILE)\n",
      "\u001b[0;31merror\u001b[0m: Cannot load URDF file."
     ]
    },
    {
     "name": "stdout",
     "output_type": "stream",
     "text": [
      "startThreads creating 1 threads.\n",
      "starting thread 0\n",
      "started thread 0 \n",
      "argc=2\n",
      "argv[0] = --unused\n",
      "argv[1] = --start_demo_name=Physics Server\n",
      "ExampleBrowserThreadFunc started\n",
      "X11 functions dynamically loaded using dlopen/dlsym OK!\n",
      "X11 functions dynamically loaded using dlopen/dlsym OK!\n",
      "Creating context\n",
      "Created GL 3.3 context\n",
      "Direct GLX rendering context obtained\n",
      "Making context current\n",
      "GL_VENDOR=NVIDIA Corporation\n",
      "GL_RENDERER=NVIDIA GeForce RTX 3060/PCIe/SSE2\n",
      "GL_VERSION=3.3.0 NVIDIA 525.147.05\n",
      "GL_SHADING_LANGUAGE_VERSION=3.30 NVIDIA via Cg compiler\n",
      "pthread_getconcurrency()=0\n",
      "Version = 3.3.0 NVIDIA 525.147.05\n",
      "Vendor = NVIDIA Corporation\n",
      "Renderer = NVIDIA GeForce RTX 3060/PCIe/SSE2\n",
      "b3Printf: Selected demo: Physics Server\n",
      "startThreads creating 1 threads.\n",
      "starting thread 0\n",
      "started thread 0 \n",
      "MotionThreadFunc thread started\n",
      "b3Printf: b3Warning[examples/Importers/ImportURDFDemo/BulletUrdfImporter.cpp,152]:\n",
      "\n",
      "b3Printf: URDF file '/home/sesem/WorldWideWeb/Lando/assets/leo_description/urdf/leo.urdf' not found\n",
      "\n",
      "ven = NVIDIA Corporation\n"
     ]
    },
    {
     "name": "stdout",
     "output_type": "stream",
     "text": [
      "ven = NVIDIA Corporation\n"
     ]
    },
    {
     "ename": "",
     "evalue": "",
     "output_type": "error",
     "traceback": [
      "\u001b[1;31mThe Kernel crashed while executing code in the the current cell or a previous cell. Please review the code in the cell(s) to identify a possible cause of the failure. Click <a href='https://aka.ms/vscodeJupyterKernelCrash'>here</a> for more info. View Jupyter <a href='command:jupyter.viewOutput'>log</a> for further details."
     ]
    }
   ],
   "source": [
    "\n",
    "\n",
    "p.setPhysicsEngineParameter(enableConeFriction=0)\n",
    "\n",
    "# Load LeoRover\n",
    "startPos = (0,0,0.2)\n",
    "startRPY = (0,0,0)\n",
    "leo_path = \"leo_description/urdf/leo.urdf\"\n",
    "leoId = p.loadURDF(os.path.join(get_assets_path(), leo_path),\n",
    "            startPos,\n",
    "            p.getQuaternionFromEuler(startRPY),\n",
    "            flags=p.URDF_USE_INERTIA_FROM_FILE)"
   ]
  }
 ],
 "metadata": {
  "kernelspec": {
   "display_name": "lando",
   "language": "python",
   "name": "python3"
  },
  "language_info": {
   "codemirror_mode": {
    "name": "ipython",
    "version": 3
   },
   "file_extension": ".py",
   "mimetype": "text/x-python",
   "name": "python",
   "nbconvert_exporter": "python",
   "pygments_lexer": "ipython3",
   "version": "3.8.18"
  }
 },
 "nbformat": 4,
 "nbformat_minor": 2
}
